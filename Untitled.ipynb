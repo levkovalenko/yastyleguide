{
 "cells": [
  {
   "cell_type": "code",
   "execution_count": 14,
   "id": "5591be47",
   "metadata": {},
   "outputs": [],
   "source": [
    "import ast\n",
    "from pprint import pprint\n",
    "from collections import defaultdict\n",
    "from typing import Dict, Optional\n",
    "\n",
    "import ast\n",
    "from collections import defaultdict\n",
    "from typing import Dict\n",
    "\n",
    "from yastyleguide.visitors.complexity.node_name import name\n",
    "from yastyleguide.visitors.complexity.stop_node import stop_node\n",
    "from yastyleguide.visitors.complexity.use_node import use_node\n",
    "\n",
    "\n",
    "class ComplexityVisitor(ast.NodeVisitor):\n",
    "    \"\"\"Complexity visitor.\n",
    "\n",
    "    It based on `ast.NodeVisitor` which can automatically visit each node for checking.\n",
    "    Complexity visitor count nodes in line and node definitions per module.\n",
    "    \"\"\"\n",
    "\n",
    "    def __init__(self):\n",
    "        \"\"\"Create line visitor.\"\"\"\n",
    "        self.line_score: Dict[int, int] = defaultdict(int)\n",
    "\n",
    "    def visit(self, node: ast.AST) -> None:\n",
    "        \"\"\"Method for calculating nodes in each line.\n",
    "\n",
    "        I overload standart visit method.\n",
    "\n",
    "        Args:\n",
    "            node (ast.AST): ast node.\n",
    "        \"\"\"\n",
    "        lineno = getattr(node, \"lineno\", None)\n",
    "        node_type = name(node)\n",
    "\n",
    "        if lineno and use_node(node):\n",
    "            self.line_score[lineno] += 1\n",
    "\n",
    "        if stop_node(node):\n",
    "            return\n",
    "\n",
    "\n",
    "        super().visit(node)\n"
   ]
  },
  {
   "cell_type": "code",
   "execution_count": 23,
   "id": "a94c5f5a",
   "metadata": {},
   "outputs": [],
   "source": [
    "code = \"\"\"\n",
    "def a(b:np.array):\n",
    "    pass\n",
    "\"\"\""
   ]
  },
  {
   "cell_type": "code",
   "execution_count": 24,
   "id": "725a2100",
   "metadata": {},
   "outputs": [
    {
     "name": "stdout",
     "output_type": "stream",
     "text": [
      "Module(\n",
      "    body=[\n",
      "        FunctionDef(\n",
      "            name='a',\n",
      "            args=arguments(\n",
      "                posonlyargs=[],\n",
      "                args=[\n",
      "                    arg(\n",
      "                        arg='b',\n",
      "                        annotation=Attribute(\n",
      "                            value=Name(id='np', ctx=Load()),\n",
      "                            attr='array',\n",
      "                            ctx=Load()))],\n",
      "                kwonlyargs=[],\n",
      "                kw_defaults=[],\n",
      "                defaults=[]),\n",
      "            body=[\n",
      "                Pass()],\n",
      "            decorator_list=[])],\n",
      "    type_ignores=[])\n"
     ]
    }
   ],
   "source": [
    "visitor = ComplexityVisitor()\n",
    "ast_tree = ast.parse(code)\n",
    "visitor.visit(ast_tree)\n",
    "print(ast.dump(ast_tree, indent=4))"
   ]
  },
  {
   "cell_type": "code",
   "execution_count": 5,
   "id": "fd84f614",
   "metadata": {},
   "outputs": [
    {
     "data": {
      "text/plain": [
       "<ast.Module at 0x7f25985f28f0>"
      ]
     },
     "execution_count": 5,
     "metadata": {},
     "output_type": "execute_result"
    }
   ],
   "source": [
    "ast_tree"
   ]
  },
  {
   "cell_type": "code",
   "execution_count": 2,
   "id": "f0057558",
   "metadata": {},
   "outputs": [
    {
     "name": "stdout",
     "output_type": "stream",
     "text": [
      "Collecting pydantic\n",
      "  Downloading pydantic-1.10.6-cp310-cp310-manylinux_2_17_x86_64.manylinux2014_x86_64.whl (3.1 MB)\n",
      "\u001b[2K     \u001b[90m━━━━━━━━━━━━━━━━━━━━━━━━━━━━━━━━━━━━━━━━\u001b[0m \u001b[32m3.1/3.1 MB\u001b[0m \u001b[31m5.6 MB/s\u001b[0m eta \u001b[36m0:00:00\u001b[0m00:01\u001b[0m00:01\u001b[0m\n",
      "\u001b[?25hRequirement already satisfied: typing-extensions>=4.2.0 in /home/levkovalenko/miniconda3/envs/yasg/lib/python3.10/site-packages (from pydantic) (4.5.0)\n",
      "Installing collected packages: pydantic\n",
      "Successfully installed pydantic-1.10.6\n"
     ]
    }
   ],
   "source": [
    "from pydantic import BaseModel\n",
    "\n",
    "class A(BaseModel):\n",
    "    a: int\n",
    "\n",
    "class B(A):\n",
    "    b: str"
   ]
  },
  {
   "cell_type": "code",
   "execution_count": 102,
   "id": "c5575f54",
   "metadata": {},
   "outputs": [
    {
     "name": "stdout",
     "output_type": "stream",
     "text": [
      "(\"Module(body=[Expr(value=UnaryOp(op=USub(), operand=Call(func=Name(id='call', \"\n",
      " 'ctx=Load()), args=[], keywords=[])))], type_ignores=[])')\n"
     ]
    }
   ],
   "source": [
    "pprint(ast.dump(ast_tree))"
   ]
  },
  {
   "cell_type": "code",
   "execution_count": 79,
   "id": "46400d29",
   "metadata": {},
   "outputs": [
    {
     "ename": "TypeError",
     "evalue": "expected AST, got 'type'",
     "output_type": "error",
     "traceback": [
      "\u001b[0;31m---------------------------------------------------------------------------\u001b[0m",
      "\u001b[0;31mTypeError\u001b[0m                                 Traceback (most recent call last)",
      "Input \u001b[0;32mIn [79]\u001b[0m, in \u001b[0;36m<cell line: 1>\u001b[0;34m()\u001b[0m\n\u001b[0;32m----> 1\u001b[0m \u001b[43mast\u001b[49m\u001b[38;5;241;43m.\u001b[39;49m\u001b[43mdump\u001b[49m\u001b[43m(\u001b[49m\u001b[43mast\u001b[49m\u001b[38;5;241;43m.\u001b[39;49m\u001b[43mUAdd\u001b[49m\u001b[43m)\u001b[49m\n",
      "File \u001b[0;32m~/miniconda3/envs/yasg/lib/python3.8/ast.py:137\u001b[0m, in \u001b[0;36mdump\u001b[0;34m(node, annotate_fields, include_attributes)\u001b[0m\n\u001b[1;32m    135\u001b[0m     \u001b[38;5;28;01mreturn\u001b[39;00m \u001b[38;5;28mrepr\u001b[39m(node)\n\u001b[1;32m    136\u001b[0m \u001b[38;5;28;01mif\u001b[39;00m \u001b[38;5;129;01mnot\u001b[39;00m \u001b[38;5;28misinstance\u001b[39m(node, AST):\n\u001b[0;32m--> 137\u001b[0m     \u001b[38;5;28;01mraise\u001b[39;00m \u001b[38;5;167;01mTypeError\u001b[39;00m(\u001b[38;5;124m'\u001b[39m\u001b[38;5;124mexpected AST, got \u001b[39m\u001b[38;5;132;01m%r\u001b[39;00m\u001b[38;5;124m'\u001b[39m \u001b[38;5;241m%\u001b[39m node\u001b[38;5;241m.\u001b[39m\u001b[38;5;18m__class__\u001b[39m\u001b[38;5;241m.\u001b[39m\u001b[38;5;18m__name__\u001b[39m)\n\u001b[1;32m    138\u001b[0m \u001b[38;5;28;01mreturn\u001b[39;00m _format(node)\n",
      "\u001b[0;31mTypeError\u001b[0m: expected AST, got 'type'"
     ]
    }
   ],
   "source": [
    "ast.dump(ast.UAdd)"
   ]
  },
  {
   "cell_type": "code",
   "execution_count": 86,
   "id": "1043b0b3",
   "metadata": {},
   "outputs": [
    {
     "data": {
      "text/plain": [
       "<_ast.UnaryOp at 0x7f48174d97c0>"
      ]
     },
     "execution_count": 86,
     "metadata": {},
     "output_type": "execute_result"
    }
   ],
   "source": [
    "ast_tree.body[0].value"
   ]
  },
  {
   "cell_type": "code",
   "execution_count": null,
   "id": "abb8dec8",
   "metadata": {},
   "outputs": [],
   "source": [
    "[1,2,3]."
   ]
  }
 ],
 "metadata": {
  "kernelspec": {
   "display_name": "Python 3 (ipykernel)",
   "language": "python",
   "name": "python3"
  },
  "language_info": {
   "codemirror_mode": {
    "name": "ipython",
    "version": 3
   },
   "file_extension": ".py",
   "mimetype": "text/x-python",
   "name": "python",
   "nbconvert_exporter": "python",
   "pygments_lexer": "ipython3",
   "version": "3.10.1"
  }
 },
 "nbformat": 4,
 "nbformat_minor": 5
}
